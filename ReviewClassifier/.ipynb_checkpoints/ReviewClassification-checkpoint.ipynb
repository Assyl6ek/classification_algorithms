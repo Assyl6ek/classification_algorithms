{
 "cells": [
  {
   "cell_type": "code",
   "execution_count": 1,
   "metadata": {},
   "outputs": [
    {
     "name": "stderr",
     "output_type": "stream",
     "text": [
      "D:\\OPP\\compVision\\lib\\site-packages\\requests\\__init__.py:91: RequestsDependencyWarning: urllib3 (1.26.8) or chardet (3.0.4) doesn't match a supported version!\n",
      "  RequestsDependencyWarning)\n"
     ]
    }
   ],
   "source": [
    "import tensorflow as tf\n",
    "from tensorflow import keras\n",
    "from tensorflow.keras import datasets, layers, models\n",
    "from keras.models import Sequential\n",
    "from keras.layers import Dense, Dropout, Flatten, Activation"
   ]
  },
  {
   "cell_type": "code",
   "execution_count": 2,
   "metadata": {},
   "outputs": [],
   "source": [
    "import numpy as np\n",
    "import pandas as pd\n",
    "import matplotlib.pyplot as plt\n",
    "import re\n",
    "import nltk\n",
    "\n",
    "from numpy import random\n",
    "from sklearn.metrics import confusion_matrix\n",
    "from sklearn.metrics import classification_report\n",
    "from pymystem3 import Mystem\n",
    "from string import punctuation\n",
    "from nltk.corpus import stopwords\n",
    "from nltk.stem.porter import PorterStemmer"
   ]
  },
  {
   "cell_type": "code",
   "execution_count": 27,
   "metadata": {},
   "outputs": [
    {
     "data": {
      "text/html": [
       "<div>\n",
       "<style scoped>\n",
       "    .dataframe tbody tr th:only-of-type {\n",
       "        vertical-align: middle;\n",
       "    }\n",
       "\n",
       "    .dataframe tbody tr th {\n",
       "        vertical-align: top;\n",
       "    }\n",
       "\n",
       "    .dataframe thead th {\n",
       "        text-align: right;\n",
       "    }\n",
       "</style>\n",
       "<table border=\"1\" class=\"dataframe\">\n",
       "  <thead>\n",
       "    <tr style=\"text-align: right;\">\n",
       "      <th></th>\n",
       "      <th>Review</th>\n",
       "      <th>Status</th>\n",
       "    </tr>\n",
       "  </thead>\n",
       "  <tbody>\n",
       "    <tr>\n",
       "      <td>0</td>\n",
       "      <td>\\n            Два довольно просторных этажа, и...</td>\n",
       "      <td>1</td>\n",
       "    </tr>\n",
       "    <tr>\n",
       "      <td>1</td>\n",
       "      <td>\\n            Пришли с мамой, взяли по стандар...</td>\n",
       "      <td>1</td>\n",
       "    </tr>\n",
       "    <tr>\n",
       "      <td>2</td>\n",
       "      <td>\\n            Из плюсов — хочу сказать, что вк...</td>\n",
       "      <td>1</td>\n",
       "    </tr>\n",
       "    <tr>\n",
       "      <td>3</td>\n",
       "      <td>\\n            Первый раз за сто лет не сама го...</td>\n",
       "      <td>1</td>\n",
       "    </tr>\n",
       "    <tr>\n",
       "      <td>4</td>\n",
       "      <td>\\n            Сделали бронь, нам перезвонили и...</td>\n",
       "      <td>0</td>\n",
       "    </tr>\n",
       "    <tr>\n",
       "      <td>...</td>\n",
       "      <td>...</td>\n",
       "      <td>...</td>\n",
       "    </tr>\n",
       "    <tr>\n",
       "      <td>9069</td>\n",
       "      <td>\\n            Вкусно, но дорого для фастфуда. ...</td>\n",
       "      <td>1</td>\n",
       "    </tr>\n",
       "    <tr>\n",
       "      <td>9070</td>\n",
       "      <td>\\n            Доставка 24/7, вкусно, и большой...</td>\n",
       "      <td>1</td>\n",
       "    </tr>\n",
       "    <tr>\n",
       "      <td>9071</td>\n",
       "      <td>\\n            Артём Капустин отличный кассир! ...</td>\n",
       "      <td>1</td>\n",
       "    </tr>\n",
       "    <tr>\n",
       "      <td>9072</td>\n",
       "      <td>\\n            Долгое время смотрела в меню на ...</td>\n",
       "      <td>1</td>\n",
       "    </tr>\n",
       "    <tr>\n",
       "      <td>9073</td>\n",
       "      <td>\\n            26.06.2017 Мы с мужем пришли с к...</td>\n",
       "      <td>1</td>\n",
       "    </tr>\n",
       "  </tbody>\n",
       "</table>\n",
       "<p>9074 rows × 2 columns</p>\n",
       "</div>"
      ],
      "text/plain": [
       "                                                 Review  Status\n",
       "0     \\n            Два довольно просторных этажа, и...       1\n",
       "1     \\n            Пришли с мамой, взяли по стандар...       1\n",
       "2     \\n            Из плюсов — хочу сказать, что вк...       1\n",
       "3     \\n            Первый раз за сто лет не сама го...       1\n",
       "4     \\n            Сделали бронь, нам перезвонили и...       0\n",
       "...                                                 ...     ...\n",
       "9069  \\n            Вкусно, но дорого для фастфуда. ...       1\n",
       "9070  \\n            Доставка 24/7, вкусно, и большой...       1\n",
       "9071  \\n            Артём Капустин отличный кассир! ...       1\n",
       "9072  \\n            Долгое время смотрела в меню на ...       1\n",
       "9073  \\n            26.06.2017 Мы с мужем пришли с к...       1\n",
       "\n",
       "[9074 rows x 2 columns]"
      ]
     },
     "execution_count": 27,
     "metadata": {},
     "output_type": "execute_result"
    }
   ],
   "source": [
    "df = pd.read_csv('ReviewsAll.csv')\n",
    "df = df.sample(frac=1).reset_index(drop=True)\n",
    "df"
   ]
  },
  {
   "cell_type": "code",
   "execution_count": 28,
   "metadata": {},
   "outputs": [
    {
     "name": "stdout",
     "output_type": "stream",
     "text": [
      "1    5399\n",
      "0    3675\n",
      "Name: Status, dtype: int64\n"
     ]
    }
   ],
   "source": [
    "print(df['Status'].value_counts())"
   ]
  },
  {
   "cell_type": "code",
   "execution_count": 29,
   "metadata": {},
   "outputs": [
    {
     "name": "stderr",
     "output_type": "stream",
     "text": [
      "[nltk_data] Downloading package stopwords to\n",
      "[nltk_data]     C:\\Users\\hp\\AppData\\Roaming\\nltk_data...\n",
      "[nltk_data]   Package stopwords is already up-to-date!\n"
     ]
    },
    {
     "data": {
      "text/plain": [
       "True"
      ]
     },
     "execution_count": 29,
     "metadata": {},
     "output_type": "execute_result"
    }
   ],
   "source": [
    "nltk.download(\"stopwords\")"
   ]
  },
  {
   "cell_type": "code",
   "execution_count": 30,
   "metadata": {},
   "outputs": [],
   "source": [
    "corpus = []\n",
    "for i in range(len(df.index)):\n",
    "    report = re.sub(\"[^А-я]\", \" \", str(df[\"Review\"][i]))\n",
    "#     report = Mystem.lemmatize(str(dataset[\"Report\"][i]).lower())\n",
    "    report = report.lower()\n",
    "    report = report.split()\n",
    "    ps = PorterStemmer()\n",
    "    report = [ps.stem(word) for word in report if not word in set(stopwords.words(\"russian\"))]\n",
    "    report = \" \".join(report)\n",
    "    corpus.append(report)"
   ]
  },
  {
   "cell_type": "code",
   "execution_count": 31,
   "metadata": {},
   "outputs": [],
   "source": [
    "from sklearn.feature_extraction.text import TfidfVectorizer\n",
    "tfidf = TfidfVectorizer(max_features=20000)\n",
    "tfidf_matrix = tfidf.fit_transform(corpus).todense()\n",
    "vocab = tfidf.vocabulary_\n",
    "# vocab"
   ]
  },
  {
   "cell_type": "code",
   "execution_count": 32,
   "metadata": {},
   "outputs": [],
   "source": [
    "w = len(vocab)\n",
    "s = len(corpus)\n",
    "matrix = np.zeros((s, w))\n",
    "\n",
    "for i in range(s):\n",
    "    senLine = corpus[i].split(\" \")\n",
    "    for word in senLine:\n",
    "        if word!='' and word in vocab.keys():\n",
    "            matrix[i][vocab[word]] += 1"
   ]
  },
  {
   "cell_type": "code",
   "execution_count": 33,
   "metadata": {},
   "outputs": [
    {
     "name": "stderr",
     "output_type": "stream",
     "text": [
      "D:\\OPP\\compVision\\lib\\site-packages\\ipykernel_launcher.py:2: SettingWithCopyWarning: \n",
      "A value is trying to be set on a copy of a slice from a DataFrame.\n",
      "Try using .loc[row_indexer,col_indexer] = value instead\n",
      "\n",
      "See the caveats in the documentation: http://pandas.pydata.org/pandas-docs/stable/user_guide/indexing.html#returning-a-view-versus-a-copy\n",
      "  \n"
     ]
    },
    {
     "data": {
      "text/plain": [
       "<tf.Tensor: shape=(7000, 20000), dtype=float32, numpy=\n",
       "array([[0., 0., 0., ..., 0., 0., 0.],\n",
       "       [0., 0., 0., ..., 0., 0., 0.],\n",
       "       [0., 0., 0., ..., 0., 0., 0.],\n",
       "       ...,\n",
       "       [0., 0., 0., ..., 0., 0., 0.],\n",
       "       [0., 0., 0., ..., 0., 0., 0.],\n",
       "       [0., 0., 0., ..., 0., 0., 0.]], dtype=float32)>"
      ]
     },
     "execution_count": 33,
     "metadata": {},
     "output_type": "execute_result"
    }
   ],
   "source": [
    "train = df[:7000]\n",
    "train['Review'] = matrix.tolist()[0:7000]\n",
    "listOfLists = train['Review'].values.tolist()\n",
    "dataset = tf.constant(listOfLists)\n",
    "dataset"
   ]
  },
  {
   "cell_type": "code",
   "execution_count": 34,
   "metadata": {},
   "outputs": [
    {
     "name": "stdout",
     "output_type": "stream",
     "text": [
      "Model: \"sequential_2\"\n",
      "_________________________________________________________________\n",
      " Layer (type)                Output Shape              Param #   \n",
      "=================================================================\n",
      " dense_4 (Dense)             (None, 200)               4000200   \n",
      "                                                                 \n",
      " dropout_2 (Dropout)         (None, 200)               0         \n",
      "                                                                 \n",
      " dense_5 (Dense)             (None, 2)                 402       \n",
      "                                                                 \n",
      "=================================================================\n",
      "Total params: 4,000,602\n",
      "Trainable params: 4,000,602\n",
      "Non-trainable params: 0\n",
      "_________________________________________________________________\n"
     ]
    }
   ],
   "source": [
    "model = Sequential()\n",
    "model.add(Dense(200, input_dim = len(train['Review'][0]), activation = \"relu\"))\n",
    "model.add(Dropout(0.5))\n",
    "# model.add(Dense(100, activation = \"relu\"))\n",
    "# model.add(Dropout(0.5))\n",
    "model.add(Dense(2, activation = \"sigmoid\"))\n",
    "\n",
    "sgd = tf.keras.optimizers.SGD(learning_rate=0.01, decay=1e-4, momentum=0.9, nesterov=True, name=\"SGD\")\n",
    "model.compile(loss='sparse_categorical_crossentropy', optimizer=sgd, metrics=['accuracy'])\n",
    "model.summary()"
   ]
  },
  {
   "cell_type": "code",
   "execution_count": 35,
   "metadata": {},
   "outputs": [
    {
     "name": "stdout",
     "output_type": "stream",
     "text": [
      "Epoch 1/40\n",
      "110/110 [==============================] - 4s 24ms/step - loss: 0.5894 - accuracy: 0.6763\n",
      "Epoch 2/40\n",
      "110/110 [==============================] - 3s 23ms/step - loss: 0.4443 - accuracy: 0.8090\n",
      "Epoch 3/40\n",
      "110/110 [==============================] - 2s 23ms/step - loss: 0.3659 - accuracy: 0.8537\n",
      "Epoch 4/40\n",
      "110/110 [==============================] - 2s 22ms/step - loss: 0.3118 - accuracy: 0.8857\n",
      "Epoch 5/40\n",
      "110/110 [==============================] - 2s 23ms/step - loss: 0.2716 - accuracy: 0.8997\n",
      "Epoch 6/40\n",
      "110/110 [==============================] - 2s 23ms/step - loss: 0.2389 - accuracy: 0.9193\n",
      "Epoch 7/40\n",
      "110/110 [==============================] - 3s 23ms/step - loss: 0.2109 - accuracy: 0.9333\n",
      "Epoch 8/40\n",
      "110/110 [==============================] - 2s 23ms/step - loss: 0.1808 - accuracy: 0.9417\n",
      "Epoch 9/40\n",
      "110/110 [==============================] - 2s 23ms/step - loss: 0.1630 - accuracy: 0.9510\n",
      "Epoch 10/40\n",
      "110/110 [==============================] - 2s 22ms/step - loss: 0.1432 - accuracy: 0.9620\n",
      "Epoch 11/40\n",
      "110/110 [==============================] - 2s 23ms/step - loss: 0.1283 - accuracy: 0.9670\n",
      "Epoch 12/40\n",
      "110/110 [==============================] - 3s 23ms/step - loss: 0.1132 - accuracy: 0.9717\n",
      "Epoch 13/40\n",
      "110/110 [==============================] - 2s 23ms/step - loss: 0.0994 - accuracy: 0.9776\n",
      "Epoch 14/40\n",
      "110/110 [==============================] - 2s 23ms/step - loss: 0.0912 - accuracy: 0.9817\n",
      "Epoch 15/40\n",
      "110/110 [==============================] - 3s 23ms/step - loss: 0.0828 - accuracy: 0.9831\n",
      "Epoch 16/40\n",
      "110/110 [==============================] - 2s 23ms/step - loss: 0.0757 - accuracy: 0.9846\n",
      "Epoch 17/40\n",
      "110/110 [==============================] - 2s 23ms/step - loss: 0.0690 - accuracy: 0.9876\n",
      "Epoch 18/40\n",
      "110/110 [==============================] - 2s 22ms/step - loss: 0.0603 - accuracy: 0.9911\n",
      "Epoch 19/40\n",
      "110/110 [==============================] - 3s 23ms/step - loss: 0.0568 - accuracy: 0.9900\n",
      "Epoch 20/40\n",
      "110/110 [==============================] - 2s 22ms/step - loss: 0.0520 - accuracy: 0.9927\n",
      "Epoch 21/40\n",
      "110/110 [==============================] - 2s 22ms/step - loss: 0.0476 - accuracy: 0.9933\n",
      "Epoch 22/40\n",
      "110/110 [==============================] - 2s 22ms/step - loss: 0.0446 - accuracy: 0.9944\n",
      "Epoch 23/40\n",
      "110/110 [==============================] - 3s 23ms/step - loss: 0.0425 - accuracy: 0.9950\n",
      "Epoch 24/40\n",
      "110/110 [==============================] - 2s 23ms/step - loss: 0.0389 - accuracy: 0.9956\n",
      "Epoch 25/40\n",
      "110/110 [==============================] - 2s 22ms/step - loss: 0.0351 - accuracy: 0.9967\n",
      "Epoch 26/40\n",
      "110/110 [==============================] - 2s 22ms/step - loss: 0.0345 - accuracy: 0.9963\n",
      "Epoch 27/40\n",
      "110/110 [==============================] - 2s 22ms/step - loss: 0.0325 - accuracy: 0.9974\n",
      "Epoch 28/40\n",
      "110/110 [==============================] - 2s 22ms/step - loss: 0.0304 - accuracy: 0.9970\n",
      "Epoch 29/40\n",
      "110/110 [==============================] - 2s 22ms/step - loss: 0.0287 - accuracy: 0.9974\n",
      "Epoch 30/40\n",
      "110/110 [==============================] - 2s 22ms/step - loss: 0.0272 - accuracy: 0.9977\n",
      "Epoch 31/40\n",
      "110/110 [==============================] - 2s 22ms/step - loss: 0.0257 - accuracy: 0.9983\n",
      "Epoch 32/40\n",
      "110/110 [==============================] - 2s 22ms/step - loss: 0.0247 - accuracy: 0.9980\n",
      "Epoch 33/40\n",
      "110/110 [==============================] - 2s 22ms/step - loss: 0.0235 - accuracy: 0.9980\n",
      "Epoch 34/40\n",
      "110/110 [==============================] - 2s 22ms/step - loss: 0.0227 - accuracy: 0.9979\n",
      "Epoch 35/40\n",
      "110/110 [==============================] - 2s 22ms/step - loss: 0.0220 - accuracy: 0.9983\n",
      "Epoch 36/40\n",
      "110/110 [==============================] - 2s 22ms/step - loss: 0.0194 - accuracy: 0.9996\n",
      "Epoch 37/40\n",
      "110/110 [==============================] - 2s 22ms/step - loss: 0.0194 - accuracy: 0.9983\n",
      "Epoch 38/40\n",
      "110/110 [==============================] - 2s 22ms/step - loss: 0.0178 - accuracy: 0.9997\n",
      "Epoch 39/40\n",
      "110/110 [==============================] - 3s 23ms/step - loss: 0.0185 - accuracy: 0.9986\n",
      "Epoch 40/40\n",
      "110/110 [==============================] - 2s 22ms/step - loss: 0.0177 - accuracy: 0.9991\n"
     ]
    }
   ],
   "source": [
    "history = model.fit(dataset, train['Status'], epochs = 40, batch_size = 64)"
   ]
  },
  {
   "cell_type": "code",
   "execution_count": 36,
   "metadata": {},
   "outputs": [
    {
     "name": "stdout",
     "output_type": "stream",
     "text": [
      "dict_keys(['loss', 'accuracy'])\n"
     ]
    },
    {
     "data": {
      "image/png": "[encoded data removed]",
      "text/plain": [
       "<Figure size 432x288 with 1 Axes>"
      ]
     },
     "metadata": {
      "needs_background": "light"
     },
     "output_type": "display_data"
    },
    {
     "data": {
      "image/png": "[encoded data removed]",
      "text/plain": [
       "<Figure size 432x288 with 1 Axes>"
      ]
     },
     "metadata": {
      "needs_background": "light"
     },
     "output_type": "display_data"
    }
   ],
   "source": [
    "print(history.history.keys())\n",
    "# summarize history for accuracy\n",
    "plt.plot(history.history['accuracy'])\n",
    "plt.title('model accuracy')\n",
    "plt.ylabel('accuracy')\n",
    "plt.xlabel('epoch')\n",
    "plt.legend(['train', 'test'], loc='upper left')\n",
    "plt.show()\n",
    "# summarize history for loss\n",
    "plt.plot(history.history['loss'])\n",
    "plt.title('model loss')\n",
    "plt.ylabel('loss')\n",
    "plt.xlabel('epoch')\n",
    "plt.legend(['train', 'test'], loc='upper left')\n",
    "plt.show()"
   ]
  },
  {
   "cell_type": "code",
   "execution_count": 37,
   "metadata": {},
   "outputs": [
    {
     "data": {
      "text/html": [
       "<div>\n",
       "<style scoped>\n",
       "    .dataframe tbody tr th:only-of-type {\n",
       "        vertical-align: middle;\n",
       "    }\n",
       "\n",
       "    .dataframe tbody tr th {\n",
       "        vertical-align: top;\n",
       "    }\n",
       "\n",
       "    .dataframe thead th {\n",
       "        text-align: right;\n",
       "    }\n",
       "</style>\n",
       "<table border=\"1\" class=\"dataframe\">\n",
       "  <thead>\n",
       "    <tr style=\"text-align: right;\">\n",
       "      <th></th>\n",
       "      <th>Review</th>\n",
       "      <th>Status</th>\n",
       "    </tr>\n",
       "  </thead>\n",
       "  <tbody>\n",
       "    <tr>\n",
       "      <td>0</td>\n",
       "      <td>\\n            Все быстро привезли. Удобное мен...</td>\n",
       "      <td>1</td>\n",
       "    </tr>\n",
       "    <tr>\n",
       "      <td>1</td>\n",
       "      <td>\\n            У этой сети очень оригинальное о...</td>\n",
       "      <td>1</td>\n",
       "    </tr>\n",
       "    <tr>\n",
       "      <td>2</td>\n",
       "      <td>\\n            Самый лучший Макдоналдс в мире. ...</td>\n",
       "      <td>1</td>\n",
       "    </tr>\n",
       "    <tr>\n",
       "      <td>3</td>\n",
       "      <td>\\n            Всегда брали другую пиццу, но на...</td>\n",
       "      <td>0</td>\n",
       "    </tr>\n",
       "    <tr>\n",
       "      <td>4</td>\n",
       "      <td>\\n            После работы решили с коллегами ...</td>\n",
       "      <td>0</td>\n",
       "    </tr>\n",
       "    <tr>\n",
       "      <td>...</td>\n",
       "      <td>...</td>\n",
       "      <td>...</td>\n",
       "    </tr>\n",
       "    <tr>\n",
       "      <td>1995</td>\n",
       "      <td>\\n            Покупкой доволен. Всё подошло, п...</td>\n",
       "      <td>1</td>\n",
       "    </tr>\n",
       "    <tr>\n",
       "      <td>1996</td>\n",
       "      <td>\\n            Приятный не пафосно-манерный бар...</td>\n",
       "      <td>1</td>\n",
       "    </tr>\n",
       "    <tr>\n",
       "      <td>1997</td>\n",
       "      <td>\\n            Сразу после посещения Шоколадниц...</td>\n",
       "      <td>0</td>\n",
       "    </tr>\n",
       "    <tr>\n",
       "      <td>1998</td>\n",
       "      <td>\\n            Примерно раз в месяц заказываем ...</td>\n",
       "      <td>1</td>\n",
       "    </tr>\n",
       "    <tr>\n",
       "      <td>1999</td>\n",
       "      <td>\\n            Приятное место для встреч и обще...</td>\n",
       "      <td>1</td>\n",
       "    </tr>\n",
       "  </tbody>\n",
       "</table>\n",
       "<p>2000 rows × 2 columns</p>\n",
       "</div>"
      ],
      "text/plain": [
       "                                                 Review  Status\n",
       "0     \\n            Все быстро привезли. Удобное мен...       1\n",
       "1     \\n            У этой сети очень оригинальное о...       1\n",
       "2     \\n            Самый лучший Макдоналдс в мире. ...       1\n",
       "3     \\n            Всегда брали другую пиццу, но на...       0\n",
       "4     \\n            После работы решили с коллегами ...       0\n",
       "...                                                 ...     ...\n",
       "1995  \\n            Покупкой доволен. Всё подошло, п...       1\n",
       "1996  \\n            Приятный не пафосно-манерный бар...       1\n",
       "1997  \\n            Сразу после посещения Шоколадниц...       0\n",
       "1998  \\n            Примерно раз в месяц заказываем ...       1\n",
       "1999  \\n            Приятное место для встреч и обще...       1\n",
       "\n",
       "[2000 rows x 2 columns]"
      ]
     },
     "execution_count": 37,
     "metadata": {},
     "output_type": "execute_result"
    }
   ],
   "source": [
    "testBD = df[-2000:]\n",
    "testBD = testBD.sample(frac=1).reset_index(drop=True)\n",
    "testBD"
   ]
  },
  {
   "cell_type": "code",
   "execution_count": 41,
   "metadata": {},
   "outputs": [
    {
     "data": {
      "text/html": [
       "<div>\n",
       "<style scoped>\n",
       "    .dataframe tbody tr th:only-of-type {\n",
       "        vertical-align: middle;\n",
       "    }\n",
       "\n",
       "    .dataframe tbody tr th {\n",
       "        vertical-align: top;\n",
       "    }\n",
       "\n",
       "    .dataframe thead th {\n",
       "        text-align: right;\n",
       "    }\n",
       "</style>\n",
       "<table border=\"1\" class=\"dataframe\">\n",
       "  <thead>\n",
       "    <tr style=\"text-align: right;\">\n",
       "      <th></th>\n",
       "      <th>Review</th>\n",
       "      <th>Status</th>\n",
       "    </tr>\n",
       "  </thead>\n",
       "  <tbody>\n",
       "    <tr>\n",
       "      <td>0</td>\n",
       "      <td>\\n            Здравствуйте! Хочу пожаловаться ...</td>\n",
       "      <td>0</td>\n",
       "    </tr>\n",
       "    <tr>\n",
       "      <td>1</td>\n",
       "      <td>\\n            10.04.2015 Теремок ТЦ Ладья Мити...</td>\n",
       "      <td>0</td>\n",
       "    </tr>\n",
       "    <tr>\n",
       "      <td>2</td>\n",
       "      <td>\\n            Отличные и не дорогие блины. Хор...</td>\n",
       "      <td>1</td>\n",
       "    </tr>\n",
       "    <tr>\n",
       "      <td>3</td>\n",
       "      <td>\\n            Вчера, 24 декабря, была в ТЦ Мег...</td>\n",
       "      <td>0</td>\n",
       "    </tr>\n",
       "    <tr>\n",
       "      <td>4</td>\n",
       "      <td>\\n            Борщ из воды, капусты, сала и са...</td>\n",
       "      <td>0</td>\n",
       "    </tr>\n",
       "    <tr>\n",
       "      <td>...</td>\n",
       "      <td>...</td>\n",
       "      <td>...</td>\n",
       "    </tr>\n",
       "    <tr>\n",
       "      <td>245</td>\n",
       "      <td>\\n            Блин «Оливье» — стоит попробоват...</td>\n",
       "      <td>1</td>\n",
       "    </tr>\n",
       "    <tr>\n",
       "      <td>246</td>\n",
       "      <td>\\n            На карту «связной» - всегда мног...</td>\n",
       "      <td>1</td>\n",
       "    </tr>\n",
       "    <tr>\n",
       "      <td>247</td>\n",
       "      <td>\\n            Тут все судари и сударыни. Готов...</td>\n",
       "      <td>1</td>\n",
       "    </tr>\n",
       "    <tr>\n",
       "      <td>248</td>\n",
       "      <td>\\n            Столики у окна - это круто, особ...</td>\n",
       "      <td>1</td>\n",
       "    </tr>\n",
       "    <tr>\n",
       "      <td>249</td>\n",
       "      <td>\\n            Борщ и e-mail — любимые блюда. М...</td>\n",
       "      <td>1</td>\n",
       "    </tr>\n",
       "  </tbody>\n",
       "</table>\n",
       "<p>250 rows × 2 columns</p>\n",
       "</div>"
      ],
      "text/plain": [
       "                                                Review  Status\n",
       "0    \\n            Здравствуйте! Хочу пожаловаться ...       0\n",
       "1    \\n            10.04.2015 Теремок ТЦ Ладья Мити...       0\n",
       "2    \\n            Отличные и не дорогие блины. Хор...       1\n",
       "3    \\n            Вчера, 24 декабря, была в ТЦ Мег...       0\n",
       "4    \\n            Борщ из воды, капусты, сала и са...       0\n",
       "..                                                 ...     ...\n",
       "245  \\n            Блин «Оливье» — стоит попробоват...       1\n",
       "246  \\n            На карту «связной» - всегда мног...       1\n",
       "247  \\n            Тут все судари и сударыни. Готов...       1\n",
       "248  \\n            Столики у окна - это круто, особ...       1\n",
       "249  \\n            Борщ и e-mail — любимые блюда. М...       1\n",
       "\n",
       "[250 rows x 2 columns]"
      ]
     },
     "execution_count": 41,
     "metadata": {},
     "output_type": "execute_result"
    }
   ],
   "source": [
    "# testBD = pd.read_csv('Reviews-GadkiyKoyot.csv')\n",
    "# testBD = testBD.sample(frac=1).reset_index(drop=True)\n",
    "# testBD"
   ]
  },
  {
   "cell_type": "code",
   "execution_count": 38,
   "metadata": {},
   "outputs": [],
   "source": [
    "corp = []\n",
    "for i in range(len(testBD.index)):\n",
    "    report = re.sub(\"[^А-я]\", \" \", str(testBD[\"Review\"][i]))\n",
    "#     report = Mystem.lemmatize(str(dataset[\"Report\"][i]).lower())\n",
    "    report = report.lower()\n",
    "    report = report.split()\n",
    "    ps = PorterStemmer()\n",
    "    report = [ps.stem(word) for word in report if not word in set(stopwords.words(\"russian\"))]\n",
    "    report = \" \".join(report)\n",
    "    corp.append(report)"
   ]
  },
  {
   "cell_type": "code",
   "execution_count": 39,
   "metadata": {},
   "outputs": [],
   "source": [
    "w1 = len(vocab)\n",
    "s1 = len(corp)\n",
    "testMatrix = np.zeros((s1, w1))\n",
    "\n",
    "for i in range(s1):\n",
    "    senLine = corp[i].split(\" \")\n",
    "    for word in senLine:\n",
    "        if word!='' and word in vocab.keys():\n",
    "            testMatrix[i][vocab[word]] += 1"
   ]
  },
  {
   "cell_type": "code",
   "execution_count": 40,
   "metadata": {},
   "outputs": [
    {
     "data": {
      "text/plain": [
       "<tf.Tensor: shape=(2000, 20000), dtype=float32, numpy=\n",
       "array([[0., 0., 0., ..., 0., 0., 0.],\n",
       "       [0., 0., 0., ..., 0., 0., 0.],\n",
       "       [0., 0., 0., ..., 0., 0., 0.],\n",
       "       ...,\n",
       "       [0., 0., 0., ..., 0., 0., 0.],\n",
       "       [0., 0., 0., ..., 0., 0., 0.],\n",
       "       [0., 0., 0., ..., 0., 0., 0.]], dtype=float32)>"
      ]
     },
     "execution_count": 40,
     "metadata": {},
     "output_type": "execute_result"
    }
   ],
   "source": [
    "test = testBD\n",
    "test['Review'] = testMatrix.tolist()\n",
    "listOfLists = test['Review'].values.tolist()\n",
    "testX = tf.constant(listOfLists)\n",
    "testY = test.iloc[:, 1].values\n",
    "testX"
   ]
  },
  {
   "cell_type": "code",
   "execution_count": 41,
   "metadata": {},
   "outputs": [
    {
     "name": "stdout",
     "output_type": "stream",
     "text": [
      "63/63 [==============================] - 0s 5ms/step - loss: 0.4864 - accuracy: 0.8560\n"
     ]
    }
   ],
   "source": [
    "score = model.evaluate(testX, testY)"
   ]
  },
  {
   "cell_type": "code",
   "execution_count": 43,
   "metadata": {},
   "outputs": [],
   "source": [
    "preds = model.predict(testX, batch_size=None, verbose=0, steps = None)\n",
    "test_prediction_label = np.argmax(preds.T, axis = 0)\n",
    "pred_test_labels = []\n",
    "for row in test_prediction_label:\n",
    "        pred_test_labels.append(row)\n",
    "\n",
    "data = {'Predicted':pred_test_labels,\n",
    "        'Actual':testY}\n",
    "compare = pd.DataFrame(data)\n",
    "# with pd.option_context('display.max_rows', None, 'display.max_columns', None):\n",
    "# #     print(compare)"
   ]
  },
  {
   "cell_type": "code",
   "execution_count": 44,
   "metadata": {},
   "outputs": [
    {
     "data": {
      "text/plain": [
       "array([[ 650,  146],\n",
       "       [ 142, 1062]], dtype=int64)"
      ]
     },
     "execution_count": 44,
     "metadata": {},
     "output_type": "execute_result"
    }
   ],
   "source": [
    "confusion_matrix(testY, test_prediction_label) "
   ]
  },
  {
   "cell_type": "code",
   "execution_count": 45,
   "metadata": {},
   "outputs": [
    {
     "name": "stdout",
     "output_type": "stream",
     "text": [
      "              precision    recall  f1-score   support\n",
      "\n",
      "           0       0.82      0.82      0.82       792\n",
      "           1       0.88      0.88      0.88      1208\n",
      "\n",
      "    accuracy                           0.86      2000\n",
      "   macro avg       0.85      0.85      0.85      2000\n",
      "weighted avg       0.86      0.86      0.86      2000\n",
      "\n"
     ]
    }
   ],
   "source": [
    "print(classification_report(test_prediction_label, testY))"
   ]
  },
  {
   "cell_type": "code",
   "execution_count": null,
   "metadata": {},
   "outputs": [],
   "source": []
  }
 ],
 "metadata": {
  "kernelspec": {
   "display_name": "Python 3",
   "language": "python",
   "name": "python3"
  },
  "language_info": {
   "codemirror_mode": {
    "name": "ipython",
    "version": 3
   },
   "file_extension": ".py",
   "mimetype": "text/x-python",
   "name": "python",
   "nbconvert_exporter": "python",
   "pygments_lexer": "ipython3",
   "version": "3.7.4"
  }
 },
 "nbformat": 4,
 "nbformat_minor": 2
}
